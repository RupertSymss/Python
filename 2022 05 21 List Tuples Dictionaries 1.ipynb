{
 "cells": [
  {
   "cell_type": "code",
   "execution_count": 3,
   "id": "dad61db2",
   "metadata": {},
   "outputs": [],
   "source": [
    "l = [3,4,5,6,7 , [23,456,67,8,78,78] , [345,56,87,8,98,9] , (234,6657,6) , {\"key1\" :\"sudh\" , 234:[23,45,656]}]"
   ]
  },
  {
   "cell_type": "code",
   "execution_count": 4,
   "id": "1fe668f5",
   "metadata": {},
   "outputs": [
    {
     "name": "stdout",
     "output_type": "stream",
     "text": [
      "[{'key1': 'sudh', 234: [23, 45, 656]}, (234, 6657, 6), [345, 56, 87, 8, 98, 9], [23, 456, 67, 8, 78, 78], 7, 6, 5, 4, 3]\n"
     ]
    }
   ],
   "source": [
    "# Reverse the list\n",
    "l.reverse()\n",
    "print(l)"
   ]
  },
  {
   "cell_type": "code",
   "execution_count": 17,
   "id": "914627ed",
   "metadata": {},
   "outputs": [
    {
     "name": "stdout",
     "output_type": "stream",
     "text": [
      "[23, 45, 656]\n",
      "[23, 45, 656]\n"
     ]
    }
   ],
   "source": [
    "# Access 234 out of this list \n",
    "print(l[0][234])\n",
    "print([i for i in l if type(i) is dict][0][234])"
   ]
  },
  {
   "cell_type": "code",
   "execution_count": 33,
   "id": "83ec35a8",
   "metadata": {},
   "outputs": [
    {
     "name": "stdout",
     "output_type": "stream",
     "text": [
      "456\n",
      "456\n"
     ]
    }
   ],
   "source": [
    "# Access 456 out of the list\n",
    "print(l[3][1])\n",
    "a=[]\n",
    "[a.extend(i) for i in l if type(i) is list or type(i) is tuple]\n",
    "print(a[a.index(456)])"
   ]
  },
  {
   "cell_type": "code",
   "execution_count": 34,
   "id": "975b3cb5",
   "metadata": {},
   "outputs": [
    {
     "name": "stdout",
     "output_type": "stream",
     "text": [
      "[[345, 56, 87, 8, 98, 9], [23, 456, 67, 8, 78, 78]]\n"
     ]
    }
   ],
   "source": [
    "# Extract only a list collection form list l \n",
    "print([i for i in l if type(i) is list])"
   ]
  },
  {
   "cell_type": "code",
   "execution_count": 36,
   "id": "1c32f4c6",
   "metadata": {},
   "outputs": [
    {
     "name": "stdout",
     "output_type": "stream",
     "text": [
      "sudh\n"
     ]
    }
   ],
   "source": [
    "# Try to extract \"sudh\"\n",
    "print([i for i in l if type(i) is dict][0]['key1'])"
   ]
  },
  {
   "cell_type": "code",
   "execution_count": 37,
   "id": "642d8f94",
   "metadata": {},
   "outputs": [
    {
     "name": "stdout",
     "output_type": "stream",
     "text": [
      "dict_keys(['key1', 234])\n"
     ]
    }
   ],
   "source": [
    "# List all the key in dict element avaible in list \n",
    "print([i for i in l if type(i) is dict][0].keys())"
   ]
  },
  {
   "cell_type": "code",
   "execution_count": 38,
   "id": "360821a5",
   "metadata": {},
   "outputs": [
    {
     "name": "stdout",
     "output_type": "stream",
     "text": [
      "dict_values(['sudh', [23, 45, 656]])\n"
     ]
    }
   ],
   "source": [
    "# Extract all the value element form dict available in list \n",
    "print([i for i in l if type(i) is dict][0].values())"
   ]
  },
  {
   "cell_type": "code",
   "execution_count": null,
   "id": "901b2211",
   "metadata": {},
   "outputs": [],
   "source": []
  }
 ],
 "metadata": {
  "kernelspec": {
   "display_name": "Python 3 (ipykernel)",
   "language": "python",
   "name": "python3"
  },
  "language_info": {
   "codemirror_mode": {
    "name": "ipython",
    "version": 3
   },
   "file_extension": ".py",
   "mimetype": "text/x-python",
   "name": "python",
   "nbconvert_exporter": "python",
   "pygments_lexer": "ipython3",
   "version": "3.9.7"
  }
 },
 "nbformat": 4,
 "nbformat_minor": 5
}
