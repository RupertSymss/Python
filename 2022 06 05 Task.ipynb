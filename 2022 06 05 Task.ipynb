{
 "cells": [
  {
   "cell_type": "code",
   "execution_count": 27,
   "id": "8d414d39",
   "metadata": {},
   "outputs": [],
   "source": [
    "#Q1: Try to print a prime number in between 1 to 1000\n",
    "def print_prime():\n",
    "    p=[]\n",
    "    for i in range(2,1001):\n",
    "        t='prime'\n",
    "        j=2\n",
    "        for j in range(2,i):\n",
    "            if i%j==0:\n",
    "                t='not'\n",
    "            #print (i,j,t)\n",
    "        if t=='prime':\n",
    "            p.append(i)\n",
    "    return list(p)\n",
    "            "
   ]
  },
  {
   "cell_type": "code",
   "execution_count": 28,
   "id": "5bc5801b",
   "metadata": {},
   "outputs": [
    {
     "name": "stdout",
     "output_type": "stream",
     "text": [
      "[2, 3, 5, 7, 11, 13, 17, 19, 23, 29, 31, 37, 41, 43, 47, 53, 59, 61, 67, 71, 73, 79, 83, 89, 97, 101, 103, 107, 109, 113, 127, 131, 137, 139, 149, 151, 157, 163, 167, 173, 179, 181, 191, 193, 197, 199, 211, 223, 227, 229, 233, 239, 241, 251, 257, 263, 269, 271, 277, 281, 283, 293, 307, 311, 313, 317, 331, 337, 347, 349, 353, 359, 367, 373, 379, 383, 389, 397, 401, 409, 419, 421, 431, 433, 439, 443, 449, 457, 461, 463, 467, 479, 487, 491, 499, 503, 509, 521, 523, 541, 547, 557, 563, 569, 571, 577, 587, 593, 599, 601, 607, 613, 617, 619, 631, 641, 643, 647, 653, 659, 661, 673, 677, 683, 691, 701, 709, 719, 727, 733, 739, 743, 751, 757, 761, 769, 773, 787, 797, 809, 811, 821, 823, 827, 829, 839, 853, 857, 859, 863, 877, 881, 883, 887, 907, 911, 919, 929, 937, 941, 947, 953, 967, 971, 977, 983, 991, 997]\n"
     ]
    }
   ],
   "source": [
    "print(print_prime())"
   ]
  },
  {
   "cell_type": "code",
   "execution_count": 1,
   "id": "6874717e",
   "metadata": {},
   "outputs": [],
   "source": [
    "#Q2:  Try to write a function which is equivalent to print function in python\n",
    "def printx(*a, sep=' ', end='\\n'):\n",
    "    x=''\n",
    "    \"\"\"print(value, ..., sep=' ', end='\\n', file=sys.stdout, flush=False)\n",
    "\n",
    "Prints the values to a stream, or to sys.stdout by default.\"\"\"\n",
    "    def lt(x):\n",
    "        if x == list:\n",
    "            return '[]'\n",
    "        elif x == tuple:\n",
    "            return '()'\n",
    "        elif x in (dict, set):\n",
    "            return '{}'\n",
    "    def plist(x):\n",
    "        for i in x:\n",
    "            pass\n",
    "    for i in a:\n",
    "        lt1=lt(type(i))\n",
    "        #print (lt1, i)\n",
    "        if type(i) in (str, int, bool, float,complex, list, tuple, set,dict):\n",
    "            x+=str(i) + sep\n",
    "    return x\n",
    "            "
   ]
  },
  {
   "cell_type": "code",
   "execution_count": 2,
   "id": "40883664",
   "metadata": {},
   "outputs": [
    {
     "data": {
      "text/plain": [
       "\"1 2 c [43] {'a': 'c'} True {2, 3, 4, 5} (1+2j) \""
      ]
     },
     "execution_count": 2,
     "metadata": {},
     "output_type": "execute_result"
    }
   ],
   "source": [
    "printx(1,2,'c',[43],{'a':'c'},True, {2,3,4,4,5},1+2j)"
   ]
  },
  {
   "cell_type": "code",
   "execution_count": 29,
   "id": "f115055c",
   "metadata": {},
   "outputs": [],
   "source": [
    "#Q3: Try to write a function which is a replica of list append , extend and pop function\n",
    "def rappend (x, y):\n",
    "    '''Takes 2 parameters. First is the list and second is a value to append'''\n",
    "    def l(k):\n",
    "        if k==len(x):\n",
    "            return y\n",
    "        else:\n",
    "            return x[k]\n",
    "    z=[l(i) for i in list(range(len(x)+1))]\n",
    "    return z"
   ]
  },
  {
   "cell_type": "code",
   "execution_count": 30,
   "id": "f2315d53",
   "metadata": {},
   "outputs": [
    {
     "data": {
      "text/plain": [
       "[1, 2, 'abc']"
      ]
     },
     "execution_count": 30,
     "metadata": {},
     "output_type": "execute_result"
    }
   ],
   "source": [
    "rappend([1,2],'abc')"
   ]
  },
  {
   "cell_type": "code",
   "execution_count": 41,
   "id": "8392110b",
   "metadata": {},
   "outputs": [],
   "source": [
    "#Q3: Try to write a function which is a replica of list append , extend and pop function\n",
    "def rextend (x, y):\n",
    "    '''Takes 2 parameters. First is the list and second is a value to extend.\n",
    "    The value to extend should be iterable'''\n",
    "    z=x+list(y)\n",
    "    return z"
   ]
  },
  {
   "cell_type": "code",
   "execution_count": 42,
   "id": "60bb5722",
   "metadata": {},
   "outputs": [
    {
     "name": "stdout",
     "output_type": "stream",
     "text": [
      "[1, 2, 'a', 'b', 'c']\n",
      "[1, 2, 1, 'a']\n"
     ]
    }
   ],
   "source": [
    "print(rextend([1,2],'abc'))\n",
    "print(rextend([1,2],{1:2,'a':'b'}))"
   ]
  },
  {
   "cell_type": "code",
   "execution_count": 65,
   "id": "13c087cc",
   "metadata": {},
   "outputs": [],
   "source": [
    "#Q3: Try to write a function which is a replica of list append , extend and pop function\n",
    "def rpop (x, y=-1):\n",
    "    '''Takes 2 parameters. First is the list and second is the position \n",
    "    in the list that you need to pop.'''\n",
    "    z=[]\n",
    "    a=''\n",
    "    if y<0:\n",
    "        y=len(x)+y\n",
    "    for i in range(len(x)):\n",
    "        if i==y:\n",
    "            a=x[i]\n",
    "        else:\n",
    "            z.append(x[i])\n",
    "    return z,a\n",
    "            \n",
    "    "
   ]
  },
  {
   "cell_type": "code",
   "execution_count": 66,
   "id": "64ee7192",
   "metadata": {},
   "outputs": [
    {
     "data": {
      "text/plain": [
       "([1, 2, 'b'], 'a')"
      ]
     },
     "execution_count": 66,
     "metadata": {},
     "output_type": "execute_result"
    }
   ],
   "source": [
    "rpop([1,2,'a','b'],2)\n"
   ]
  },
  {
   "cell_type": "code",
   "execution_count": 76,
   "id": "383aebbb",
   "metadata": {},
   "outputs": [],
   "source": [
    "#Q4 :  Try to write a lambda function which can return a concatination of all the string that we will pass\n",
    "cc=lambda *x:''.join([str(i) for i in x])"
   ]
  },
  {
   "cell_type": "code",
   "execution_count": 77,
   "id": "17abbe6f",
   "metadata": {},
   "outputs": [
    {
     "data": {
      "text/plain": [
       "'abcdefghijklmno'"
      ]
     },
     "execution_count": 77,
     "metadata": {},
     "output_type": "execute_result"
    }
   ],
   "source": [
    "cc('abc','def','ghi','jkl','mno')"
   ]
  },
  {
   "cell_type": "code",
   "execution_count": 78,
   "id": "8ad4c184",
   "metadata": {},
   "outputs": [
    {
     "data": {
      "text/plain": [
       "'abc24'"
      ]
     },
     "execution_count": 78,
     "metadata": {},
     "output_type": "execute_result"
    }
   ],
   "source": [
    "cc('abc',24)"
   ]
  },
  {
   "cell_type": "code",
   "execution_count": 87,
   "id": "f57c2b56",
   "metadata": {},
   "outputs": [],
   "source": [
    "#q5: Try to write a lambda function which can return list of square of all the data between 1-100\n",
    "sq=lambda : [i**2 for i in range(1,101)]"
   ]
  },
  {
   "cell_type": "code",
   "execution_count": 88,
   "id": "0928ab09",
   "metadata": {},
   "outputs": [
    {
     "name": "stdout",
     "output_type": "stream",
     "text": [
      "[1, 4, 9, 16, 25, 36, 49, 64, 81, 100, 121, 144, 169, 196, 225, 256, 289, 324, 361, 400, 441, 484, 529, 576, 625, 676, 729, 784, 841, 900, 961, 1024, 1089, 1156, 1225, 1296, 1369, 1444, 1521, 1600, 1681, 1764, 1849, 1936, 2025, 2116, 2209, 2304, 2401, 2500, 2601, 2704, 2809, 2916, 3025, 3136, 3249, 3364, 3481, 3600, 3721, 3844, 3969, 4096, 4225, 4356, 4489, 4624, 4761, 4900, 5041, 5184, 5329, 5476, 5625, 5776, 5929, 6084, 6241, 6400, 6561, 6724, 6889, 7056, 7225, 7396, 7569, 7744, 7921, 8100, 8281, 8464, 8649, 8836, 9025, 9216, 9409, 9604, 9801, 10000]\n"
     ]
    }
   ],
   "source": [
    "print(sq(),sep=' ')"
   ]
  },
  {
   "cell_type": "code",
   "execution_count": 166,
   "id": "357efbf6",
   "metadata": {},
   "outputs": [],
   "source": [
    "#Q6: Try to write a 10 Different different example of lambda function with a choice of your taks\n",
    "\n",
    "#Type 01: Add two values\n",
    "ad=lambda x,y:x+y\n",
    "\n",
    "#Type 02: Custom Printer\n",
    "p=lambda *x:print(x, end='\\t')\n",
    "\n",
    "#Type 03: List Range\n",
    "r=lambda x:list(range(1,x))\n",
    "\n",
    "#Type 04: Filtered List\n",
    "fl = lambda *y :list(filter(lambda x: x > 7, y))\n",
    "\n",
    "#Type 05: Map List\n",
    "ml = lambda *y :list(map(lambda x: round(x**(1/2),2), y))\n",
    "\n",
    "#Type 06: Conditional\n",
    "maxval = lambda x, y : x if(x > y) else y\n",
    "\n",
    "#Type 07: Sorted List\n",
    "sort = lambda *x: [sorted(i) for i in x]\n",
    "\n",
    "#Type 08: Largest element\n",
    "great = lambda *x:  [y[len(y)-1] for y in sort(x)]\n",
    "\n",
    "#Type 09: Largest element in each list\n",
    "greatl = lambda *x:  [y[len(y)-1] for y in [sorted(i) for i in x]]\n",
    "\n",
    "#Type 10: Using if else & elif in lambda function\n",
    "compare = lambda x,y: f'{x} is greater than {y}' if x>y else (f'{y} is greater than {x}' if x<y else 'both are equal') "
   ]
  },
  {
   "cell_type": "code",
   "execution_count": 171,
   "id": "acde3829",
   "metadata": {},
   "outputs": [
    {
     "name": "stdout",
     "output_type": "stream",
     "text": [
      "01:\t ab\n",
      "('a', 1, ['x'], (3+4j), {3, 45})\t\n",
      "\n",
      "03:\t [1, 2, 3, 4, 5, 6, 7, 8, 9, 10, 11, 12, 13, 14, 15, 16, 17, 18, 19]\n",
      "04:\t [9, 21, 584, 545498, 45, 144, 51, 1451, 41]\n",
      "05:\t [1.41, 2.0, 1.41, 1.73, 2.45, 2.24, 2.65, 3.0, 2.24, 2.0, 4.58, 2.45, 2.0, 2.24, 24.17, 738.58, 6.71, 12.0, 7.14]\n",
      "06:\t 10\n",
      "07:\t [[2, 2, 3, 4, 5, 6, 7], [4, 4, 5, 5, 6, 9, 21, 584, 545498], [4, 41, 45, 51, 144, 1451]]\n",
      "08:\t [545498]\n",
      "09:\t [7, 545498, 1451]\n",
      "10:\t 20 is greater than 10\n"
     ]
    }
   ],
   "source": [
    "print('01:\\t', ad('a','b'))\n",
    "p('a',1,['x'],(3+4j),{45,3})\n",
    "print('\\n')\n",
    "print('03:\\t',r(20))\n",
    "print('04:\\t',fl(2,4,2,3,6,5,7,9,5,4,21,6,4,5,584,545498,45,144,51,1451,41,4))\n",
    "print('05:\\t',ml(2,4,2,3,6,5,7,9,5,4,21,6,4,5,584,545498,45,144,51))\n",
    "print('06:\\t',maxval(5,10))\n",
    "print('07:\\t',sort([2,4,2,3,6,5,7],[9,5,4,21,6,4,5,584,545498],[45,144,51,1451,41,4]))\n",
    "print('08:\\t',great(2,4,2,3,6,5,7,9,5,4,21,6,4,5,584,545498,45,144,51,1451,41,4))\n",
    "print('09:\\t',greatl([2,4,2,3,6,5,7],[9,5,4,21,6,4,5,584,545498],[45,144,51,1451,41,4]))\n",
    "print('10:\\t',compare(10,20))"
   ]
  },
  {
   "cell_type": "code",
   "execution_count": 174,
   "id": "3a1f6393",
   "metadata": {},
   "outputs": [
    {
     "name": "stdout",
     "output_type": "stream",
     "text": [
      "My name is Rupert Symss\n",
      "I am learning Python!\n",
      "-----------------------\n",
      "The Zen of Python\n",
      "\n",
      "Beautiful is better than ugly.\n",
      "Explicit is better than implicit.\n",
      "Simple is better than complex.\n",
      "Complex is better than complicated.\n",
      "Flat is better than nested.\n",
      "Sparse is better than dense.\n",
      "Readability counts.\n",
      "Special cases aren't special enough to break the rules.\n",
      "Although practicality beats purity.\n",
      "Errors should never pass silently.\n",
      "Unless explicitly silenced.\n",
      "In the face of ambiguity, refuse the temptation to guess.\n",
      "There should be one-- and preferably only one --obvious way to do it.\n",
      "Although that way may not be obvious at first unless you're Dutch.\n",
      "Now is better than never.\n",
      "Although never is often better than *right* now.\n",
      "If the implementation is hard to explain, it's a bad idea.\n",
      "If the implementation is easy to explain, it may be a good idea.\n",
      "Namespaces are one honking great idea -- let's do more of those!\n"
     ]
    }
   ],
   "source": [
    "x=open(\"D:/Data/SomeFile.txt\",'r')\n",
    "print(x.read())\n",
    "x.close()"
   ]
  },
  {
   "cell_type": "code",
   "execution_count": null,
   "id": "21e93d15",
   "metadata": {},
   "outputs": [],
   "source": []
  }
 ],
 "metadata": {
  "kernelspec": {
   "display_name": "Python 3 (ipykernel)",
   "language": "python",
   "name": "python3"
  },
  "language_info": {
   "codemirror_mode": {
    "name": "ipython",
    "version": 3
   },
   "file_extension": ".py",
   "mimetype": "text/x-python",
   "name": "python",
   "nbconvert_exporter": "python",
   "pygments_lexer": "ipython3",
   "version": "3.9.7"
  }
 },
 "nbformat": 4,
 "nbformat_minor": 5
}
