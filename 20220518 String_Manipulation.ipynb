{
 "cells": [
  {
   "cell_type": "markdown",
   "id": "5ee9922a",
   "metadata": {},
   "source": [
    "Rupert Symss    |    rupertsymss@gmail.com    |    +1(403)860-3785    |    https://www.linkedin.com/in/rupertsymss/"
   ]
  },
  {
   "cell_type": "code",
   "execution_count": 2,
   "id": "61279ac7",
   "metadata": {},
   "outputs": [],
   "source": [
    "# setting up the text in the variable s\n",
    "s = \"this is My First Python programming class and i am learNING python string and its function\""
   ]
  },
  {
   "cell_type": "code",
   "execution_count": 7,
   "id": "4118b48c",
   "metadata": {},
   "outputs": [
    {
     "name": "stdout",
     "output_type": "stream",
     "text": [
      "h   r tnrrmglsnimeNGyosi dtfco\n"
     ]
    }
   ],
   "source": [
    "#Try to extract data from index one to index 300 with a jump of 3\n",
    "print(s[1:300:3])"
   ]
  },
  {
   "cell_type": "code",
   "execution_count": 10,
   "id": "722234f3",
   "metadata": {},
   "outputs": [
    {
     "name": "stdout",
     "output_type": "stream",
     "text": [
      "noitcnuf sti dna gnirts nohtyp GNINrael ma i dna ssalc gnimmargorp nohtyP tsriF yM si siht\n"
     ]
    }
   ],
   "source": [
    "#Try to reverse a string without using reverse function \n",
    "print(s[::-1])"
   ]
  },
  {
   "cell_type": "code",
   "execution_count": 15,
   "id": "1fcde3c4",
   "metadata": {},
   "outputs": [
    {
     "name": "stdout",
     "output_type": "stream",
     "text": [
      "THIS IS MY FIRST PYTHON PROGRAMMING CLASS AND I AM LEARNING PYTHON STRING AND ITS FUNCTION\n"
     ]
    }
   ],
   "source": [
    "#Try to split a string after conversion of entire string in uppercase \n",
    "print(s.upper())"
   ]
  },
  {
   "cell_type": "code",
   "execution_count": 16,
   "id": "b0771e8c",
   "metadata": {},
   "outputs": [
    {
     "name": "stdout",
     "output_type": "stream",
     "text": [
      "this is my first python programming class and i am learning python string and its function\n"
     ]
    }
   ],
   "source": [
    "#Try to convert the whole string into lower case \n",
    "print(s.lower())"
   ]
  },
  {
   "cell_type": "code",
   "execution_count": 17,
   "id": "a339adc7",
   "metadata": {},
   "outputs": [
    {
     "name": "stdout",
     "output_type": "stream",
     "text": [
      "This is my first python programming class and i am learning python string and its function\n"
     ]
    }
   ],
   "source": [
    "#Try to capitalize the whole string\n",
    "print(s.capitalize())"
   ]
  },
  {
   "cell_type": "code",
   "execution_count": 44,
   "id": "559b0981",
   "metadata": {},
   "outputs": [
    {
     "name": "stdout",
     "output_type": "stream",
     "text": [
      "\n",
      "isalnum() ----> The isalnum() function returns “True” if all characters in the string are alphanumeric (either alphabets or numbers). If not, it returns “False”.\n",
      "For Example:\n",
      "    s.isalnum() : False --> `s` results in `False` because the value contains `spaces` which is not an alphabet or number.\n",
      "    'aBc123'.isalnum()  :  True --> results in `True` becaue all characters of the string are either alphabets or numbers.\n",
      "================================\n",
      "isalpha() ----> The isalpha() function returns “True” if all characters in the string are alphabets, If not, it returns “False”.\n",
      "For Example:\n",
      "    s.isalpha() : False --> `s` results in `False` because the value contains `spaces` which is not an alphabet.\n",
      "    'aBc123'.isalpha()  :  False --> results in `False` becaue although it does not contain spaces, it contains `numbers`. Numbers are not alphabets so the result is False\n",
      "    'aBcdEf'.isalpha()  :  True --> results in `True` because it only contains alphabets.\n",
      "\n"
     ]
    }
   ],
   "source": [
    "#Write a diference between isalnum() and isalpha()\n",
    "\n",
    "print (f'''\n",
    "isalnum() ----> The isalnum() function returns “True” if all characters in the string are alphanumeric (either alphabets or numbers). If not, it returns “False”.\n",
    "For Example:\n",
    "    s.isalnum() : {s.isalnum()} --> `s` results in `False` because the value contains `spaces` which is not an alphabet or number.\n",
    "    'aBc123'.isalnum()  :  {'aBc123'.isalnum()} --> results in `True` becaue all characters of the string are either alphabets or numbers.\n",
    "================================\n",
    "isalpha() ----> The isalpha() function returns “True” if all characters in the string are alphabets, If not, it returns “False”.\n",
    "For Example:\n",
    "    s.isalpha() : {s.isalpha()} --> `s` results in `False` because the value contains `spaces` which is not an alphabet.\n",
    "    'aBc123'.isalpha()  :  {'aBc123'.isalpha()} --> results in `False` becaue although it does not contain spaces, it contains `numbers`. Numbers are not alphabets so the result is False\n",
    "    'aBcdEf'.isalpha()  :  {'aBcdEf'.isalpha()} --> results in `True` because it only contains alphabets.\n",
    "''')\n"
   ]
  },
  {
   "cell_type": "code",
   "execution_count": 69,
   "id": "439c897d",
   "metadata": {},
   "outputs": [
    {
     "name": "stdout",
     "output_type": "stream",
     "text": [
      "\n",
      "The expandtab() function returns a modified string with tabs (\\t) replaced by the specified number of space. The default number of spaces is 8.\n",
      "\n",
      "For Example: for the string:  abc\\tdefgh\\t1234567\\td\\tefghi\n",
      "                              abc      defgh    1234567  d        efghi\n",
      "\n",
      "Notice that the number of spaces added in the example is not consistent for each tab. This is because, the function is sensitive to the position of the tab character such that the tab position will always be in multiples of the tab size. in the example, the tabs character positions go in multiples of 9.\n",
      "\n"
     ]
    }
   ],
   "source": [
    "#Try to give an example of expand tab\n",
    "t=f'''abc\\tdefgh\\t1234567\\td\\tefghi'''\n",
    "print(\n",
    "f'''\n",
    "The expandtab() function returns a modified string with tabs (\\\\t) replaced by the specified number of space. The default number of spaces is 8.\n",
    "\n",
    "For Example: for the string:  abc\\\\tdefgh\\\\t1234567\\\\td\\\\tefghi\n",
    "                              {t.expandtabs(9)}'''\n",
    ")\n",
    "\n",
    "\n",
    "\n",
    "print('''\n",
    "Notice that the number of spaces added in the example is not consistent for each tab. This is because, the function is sensitive to the position of the tab character such that the tab position will always be in multiples of the tab size. in the example, the tabs character positions go in multiples of 9.\n",
    "''')"
   ]
  },
  {
   "cell_type": "code",
   "execution_count": 82,
   "id": "632e88a1",
   "metadata": {},
   "outputs": [
    {
     "name": "stdout",
     "output_type": "stream",
     "text": [
      "The strip() function in python returns a string with only leading and trailing `space` characters removed. It does not remove any space characters from between the string.\n",
      "Whereas the lstrip() function removes only leading `space` characters and the rstrip() function removes only trailing `space` characters.\n",
      "For example in the text \"   HELLO WORLD   \" we have a space between the words \"hello world\" and also leading & trailing spaces around it.\n",
      "example for strip() -->  \"   HELLO WORLD   \".strip    :   \"HELLO WORLD\"\n",
      "example for lstrip() --> \"   HELLO WORLD   \".lstrip   :   \"HELLO WORLD   \"\n",
      "example for rstrip() --> \"   HELLO WORLD   \".rstrip   :   \"   HELLO WORLD\"\n",
      "\n"
     ]
    }
   ],
   "source": [
    "#Give an example of strip , lstrip and rstrip \n",
    "h='   HELLO WORLD   '\n",
    "print('The strip() function in python returns a string with only leading and trailing `space` characters removed. It does not remove any space characters from between the string.')\n",
    "print('Whereas the lstrip() function removes only leading `space` characters and the rstrip() function removes only trailing `space` characters.')\n",
    "print(f'''For example in the text \"{h}\" we have a space between the words \"{h.lower().strip()}\" and also leading & trailing spaces around it.\n",
    "example for strip() -->  \"{h}\".strip    :   \"{h.strip()}\"\n",
    "example for lstrip() --> \"{h}\".lstrip   :   \"{h.lstrip()}\"\n",
    "example for rstrip() --> \"{h}\".rstrip   :   \"{h.rstrip()}\"\n",
    "''')"
   ]
  },
  {
   "cell_type": "code",
   "execution_count": 92,
   "id": "b1b691e3",
   "metadata": {},
   "outputs": [
    {
     "name": "stdout",
     "output_type": "stream",
     "text": [
      "A*C A*C A*C A*C A*C\n",
      "A*C A*C A*C ABC ABC\n"
     ]
    }
   ],
   "source": [
    "#Replace a string character by another character by taking your own example \"ABC ABC ABC ABC ABC\"\n",
    "r=('ABC '*5).strip()\n",
    "print(r.replace('B','*'))\n",
    "print(r.replace('B','*',3))\n"
   ]
  },
  {
   "cell_type": "code",
   "execution_count": 130,
   "id": "408088fb",
   "metadata": {},
   "outputs": [
    {
     "name": "stdout",
     "output_type": "stream",
     "text": [
      "The string center function returns a string that is equally padded on both sides of the string by a specified character. If no character for padding is specified then the default character is a `space`. The maximum length of the padded string will be the integer that is passed in the center function or the length of the original string whichever is higher.\n",
      "Also if the padding cannot be equally split to both sides then the one additional padding character will be on the trailing side of the string.\n",
      "\n",
      "Example for the string: abc\n",
      "                       abc                        \n",
      "Character length of centered string:  50\n",
      "\n",
      "Another Example: \n",
      "\n",
      "         *          \n",
      "        ***         \n",
      "       *****        \n",
      "      *******       \n",
      "     *********      \n",
      "    ***********     \n",
      "   *************    \n",
      "  ***************   \n",
      " *****************  \n",
      "******************* \n"
     ]
    }
   ],
   "source": [
    "#Try to give a definition of string center function with an example\n",
    "print ('''The string center function returns a string that is equally padded on both sides of the string by a specified character. If no character for padding is specified then the default character is a `space`. The maximum length of the padded string will be the integer that is passed in the center function or the length of the original string whichever is higher.\n",
    "Also if the padding cannot be equally split to both sides then the one additional padding character will be on the trailing side of the string.\n",
    "''')\n",
    "print('Example for the string: abc')\n",
    "print('abc'.center(50))\n",
    "print (f'''Character length of centered string:  {len('abc'.center(50))}''')\n",
    "\n",
    "print('\\nAnother Example: \\n')\n",
    "for i in range(1,20,2):\n",
    "    print(('*'*i).center(20))"
   ]
  },
  {
   "cell_type": "code",
   "execution_count": 128,
   "id": "c78a85b7",
   "metadata": {},
   "outputs": [
    {
     "name": "stdout",
     "output_type": "stream",
     "text": [
      "abcde\n",
      "abcde \n",
      "6\n"
     ]
    }
   ],
   "source": [
    "print('abcde')\n",
    "print('abcde'.center(6))\n",
    "print(len('abcde'.center(6)))"
   ]
  },
  {
   "cell_type": "markdown",
   "id": "3a065092",
   "metadata": {},
   "source": [
    "Interpreter and compiler\n",
    "----------------------------------\n",
    "Computer programs that we write which is a high level language needs to be understood by the computer and executed. However the computer does not understand our language needs to have it converted to machine code so that it can execute it. This task of converting a high level programming language into machine code can be done either by an \"Interpreter\" or a \"Compiler\". However they both function in different ways.\n",
    "\n",
    "Defition of a COMPILER: A compiler converts all lines of instructions in the source code at once into machine code (binary) and makes a copy of the source code file as a machine code file. Now the machine code file containing all the instructions in machine code can be shared and used independent of the source code file. Thus converting to machine code using the compiler is a one time task and it is no longer required during execution of the machine code and instead the machine code is distributed to end users as an executable. This machine code file executes much faster however the end user has no ability to change the machine code on the fly while it is being executed.\n",
    "\n",
    "Definition of an INTERPRETER: A interpreter converts one line at a time into machine code and send it for execution. Thus the interpreter is continously required to be available to convert each line of source code into machine code once the previous line of converted machine code has been executed. No separate machine code executable is created and instead the source code is shared among end users.  This is much slower to run as the machine has to wait for the next line of code while it is being converted by the interpreter. However the end user has much more control over the process (and also easier to debug) as they can modify the subsequent lines of source code before they get executed."
   ]
  },
  {
   "cell_type": "markdown",
   "id": "ac6e40bb",
   "metadata": {},
   "source": [
    "Python is an interpreted of compiled language give a clear answer with your understanding:\n",
    "-----------------------------------------------------------------------------------------\n",
    "Python is known as an interpreted language, which means the source code of a Python program is first converted into bytecode that is then executed by the Python virtual machine.\n",
    "Although Python is an interpreted language, compilation is one of the steps that the Python program first performs without the programmer noticing this. The compilation is then saved with a .pyc or .pyo extension which is then executed. This has an added benefit using Python that has the benefit of compiled languages where the entire source code can be executed at once.\n",
    "Thus python programs are both compiled as well as interpreted with the compilation part being hidden from the programmer."
   ]
  },
  {
   "cell_type": "markdown",
   "id": "278dc751",
   "metadata": {},
   "source": [
    "Try to write a use case of python with your understanding:\n",
    "------------------------------------\n",
    "A use case for Python in #DATA SCIENCE\n",
    "\n",
    "Being able to get insights from data is very valuable for businesses and a highly-demanded skill. Data science is now becoming one of the most important areas with applications of Python programming.\n",
    "Python has a very large number of libraries with application in both front end development and back end development. Also it has tried and tested libraries for data manipulation and analysis such as Pandas, NumPy, SciPy, etc. that helps in data extraction, cleaning, transformation and analysis resulting in extracting valuable information and insights.\n",
    "The same python code can be easily deployed be it on a local machine or on a server. We can also present & visualize data using libraries such as Matplotlib and Seaborn.\n",
    "\n",
    "A use case of data science in the banking industry would be:\n",
    "\n",
    "Problem statement:\n",
    "For banking customers that have credit cards, a decision needs to be taken on for which customers we can increase the credit limit on their credit card such that it would be likely to result in less than proportionate increase in the risk of their defaulting on their credit card debt.\n",
    "\n",
    "Solution:\n",
    "Analyze their personal & credit card transactions data to identify patterns in their behaviour. Apply machine learning using python to classify customers into meaningful categories and identify the acceptable threshold of risk to credit limit trade-off.\n",
    "\n",
    "Benefit:\n",
    "Since banks have a very large number of customers it is not feasible to analyze and approve credit limit increases on a case by case basis and instead an automated approach using data science techniques for best possible results is the only viable approach."
   ]
  },
  {
   "cell_type": "code",
   "execution_count": null,
   "id": "7e40dfec",
   "metadata": {},
   "outputs": [],
   "source": []
  }
 ],
 "metadata": {
  "kernelspec": {
   "display_name": "Python 3 (ipykernel)",
   "language": "python",
   "name": "python3"
  },
  "language_info": {
   "codemirror_mode": {
    "name": "ipython",
    "version": 3
   },
   "file_extension": ".py",
   "mimetype": "text/x-python",
   "name": "python",
   "nbconvert_exporter": "python",
   "pygments_lexer": "ipython3",
   "version": "3.9.7"
  }
 },
 "nbformat": 4,
 "nbformat_minor": 5
}
