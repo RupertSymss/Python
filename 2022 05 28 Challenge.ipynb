{
 "cells": [
  {
   "cell_type": "markdown",
   "id": "48e00052",
   "metadata": {},
   "source": [
    "#########################################\n",
    "\n",
    "q1: print\n",
    "\n",
    "ineuron \n",
    "\n",
    "ineuron ineuron \n",
    "\n",
    "ineuron ineuron ineuron \n",
    "\n",
    "ineuron ineuron ineuron "
   ]
  },
  {
   "cell_type": "code",
   "execution_count": 11,
   "id": "e33a744e",
   "metadata": {},
   "outputs": [
    {
     "name": "stdout",
     "output_type": "stream",
     "text": [
      "iNeuron    \n",
      "iNeuron    iNeuron    \n",
      "iNeuron    iNeuron    iNeuron    \n",
      "iNeuron    iNeuron    iNeuron    \n"
     ]
    }
   ],
   "source": [
    "s,i,t='iNeuron',1,' '*4\n",
    "while i <=3:\n",
    "    p=(s + t)*i\n",
    "    print (p)\n",
    "    i +=1\n",
    "else:\n",
    "    print (p)"
   ]
  },
  {
   "cell_type": "markdown",
   "id": "13b0899a",
   "metadata": {},
   "source": [
    "#########################################\n",
    "\n",
    "Q2: PRINT\n",
    "\n",
    "                    ineuron \n",
    "\n",
    "            ineuron \t     ineuron \n",
    "\n",
    "    ineuron \t    ineuron \t     ineuron \n",
    "\n",
    "            ineuron          ineuron \n",
    "\n",
    "                    ineuron"
   ]
  },
  {
   "cell_type": "code",
   "execution_count": 27,
   "id": "21941cb1",
   "metadata": {},
   "outputs": [
    {
     "name": "stdout",
     "output_type": "stream",
     "text": [
      "              iNeuron       \n",
      "\n",
      "       iNeuron       iNeuron       \n",
      "\n",
      "iNeuron       iNeuron       iNeuron       \n",
      "\n",
      "       iNeuron       iNeuron       \n",
      "\n",
      "              iNeuron       \n",
      "\n"
     ]
    }
   ],
   "source": [
    "#########  Solution 01  #########\n",
    "s,t,n,l='iNeuron',' '*len(s),3,[]\n",
    "for i in range(n):\n",
    "    p=t*(n-i-1)\n",
    "    j=0\n",
    "    while j <=i:\n",
    "        p = p + s + t\n",
    "        j+=1\n",
    "    print (p)\n",
    "    l.append(p)\n",
    "    print ('')\n",
    "for i in range(len(l)-2,-1,-1):\n",
    "    print (l[i])\n",
    "    print ('')"
   ]
  },
  {
   "cell_type": "code",
   "execution_count": 38,
   "id": "fc1d5ff8",
   "metadata": {},
   "outputs": [
    {
     "name": "stdout",
     "output_type": "stream",
     "text": [
      "                 iNeuron                   \n",
      "\n",
      "          iNeuron       iNeuron            \n",
      "\n",
      "   iNeuron       iNeuron       iNeuron     \n",
      "\n",
      "          iNeuron       iNeuron            \n",
      "\n",
      "                 iNeuron                   \n",
      "\n"
     ]
    }
   ],
   "source": [
    "#########  Solution 02  #########\n",
    "s,t,n,l='iNeuron',len(s),3,[]\n",
    "def ineuron(i):\n",
    "    p=(s+' '*t)*(i+1)\n",
    "    p=p.strip().center(t*n*(n-1))\n",
    "    print (p, '\\n'.expandtabs())\n",
    "    \n",
    "for i in range(n):\n",
    "    ineuron(i)\n",
    "for i in range(n-2,-1,-1):\n",
    "    ineuron(i)"
   ]
  },
  {
   "cell_type": "code",
   "execution_count": 169,
   "id": "0d50e671",
   "metadata": {},
   "outputs": [],
   "source": [
    "l=[[1,2,3,4],  (2,3,4,5,6),  (3,4,5,6,7),  set([23,4,5,45,4,4,5,45,45,4,5]), \n",
    "\t{\"k1\":\"sudh\",  \"k2\":\"ineuron\",  \"k3\":\"kumar\",  3:6,  7:8},  [\"ineuron\", \"data science \"]]"
   ]
  },
  {
   "cell_type": "code",
   "execution_count": 52,
   "id": "6c3b9c7f",
   "metadata": {},
   "outputs": [
    {
     "name": "stdout",
     "output_type": "stream",
     "text": [
      "[1, 2, 3, 4] ['ineuron', 'data science '] "
     ]
    }
   ],
   "source": [
    "# q3:try to extract all the list entity\n",
    "for j in [i for i in l if type(i)==list]:\n",
    "    print (j,end=' ')"
   ]
  },
  {
   "cell_type": "code",
   "execution_count": 53,
   "id": "9f7f0343",
   "metadata": {},
   "outputs": [
    {
     "name": "stdout",
     "output_type": "stream",
     "text": [
      "{'k1': 'sudh', 'k2': 'ineuron', 'k3': 'kumar', 3: 6, 7: 8} "
     ]
    }
   ],
   "source": [
    "#q4: try to extract all the dict entity\n",
    "for j in [i for i in l if type(i)==dict]:\n",
    "    print (j, end= ' ')"
   ]
  },
  {
   "cell_type": "code",
   "execution_count": 54,
   "id": "e5203161",
   "metadata": {},
   "outputs": [
    {
     "name": "stdout",
     "output_type": "stream",
     "text": [
      "(2, 3, 4, 5, 6) (3, 4, 5, 6, 7) "
     ]
    }
   ],
   "source": [
    "#q5: try to extract all the tuples entity\n",
    "for j in [i for i in l if type(i)==tuple]:\n",
    "    print (j, end=' ')"
   ]
  },
  {
   "cell_type": "code",
   "execution_count": 151,
   "id": "4aacd13c",
   "metadata": {},
   "outputs": [
    {
     "name": "stdout",
     "output_type": "stream",
     "text": [
      "[3, 7, 6, 8]\n"
     ]
    }
   ],
   "source": [
    "#q6: try to extract all the numerical data it may be a part of dict key and values\n",
    "def mergedict(*args):\n",
    "    o = {}\n",
    "    for arg in args[0]:\n",
    "        o.update(arg)\n",
    "    return o\n",
    "m=[i for i in l if type(i)==dict]\n",
    "m=mergedict(m) # converts list to dictionary and also merges dictionaries if there multiple of them within the list\n",
    "m=list(m.keys()) + list(m.values())\n",
    "m=[i for i in m if str(i).isnumeric()]\n",
    "print(m)"
   ]
  },
  {
   "cell_type": "code",
   "execution_count": 173,
   "id": "919f6f14",
   "metadata": {},
   "outputs": [
    {
     "name": "stdout",
     "output_type": "stream",
     "text": [
      "[1, 2, 3, 4, 2, 3, 4, 5, 6, 3, 4, 5, 6, 7, 45, 4, 5, 23, 'k1', 'sudh', 'k2', 'ineuron', 'k3', 'kumar', 3, 6, 7, 8, 'ineuron', 'data science ']\n"
     ]
    }
   ],
   "source": [
    "#q15: Try to unwrap all the collection inside collection and create a flat list\n",
    "l=[[1,2,3,4],  (2,3,4,5,6),  (3,4,5,6,7),  set([23,4,5,45,4,4,5,45,45,4,5]), \n",
    "\t{\"k1\":\"sudh\",  \"k2\":\"ineuron\",  \"k3\":\"kumar\",  3:6,  7:8},  [\"ineuron\", \"data science \"]]\n",
    "c=0\n",
    "m=[]\n",
    "l1=l+[]\n",
    "\n",
    "def flattern(i):\n",
    "    if type(i) in (int, str, bool, float, complex):\n",
    "        m.append(i)\n",
    "    elif type(i) in (list, set, tuple):\n",
    "        m.extend(i)\n",
    "    elif type(i) == dict:\n",
    "        for j in i.items():\n",
    "            m.extend(j)\n",
    "    else:\n",
    "        return i\n",
    "\n",
    "\n",
    "while len(l1)>0 and c<10:\n",
    "    r=l1.pop(0)\n",
    "    s=flattern(r)\n",
    "    if type(s) in (list, tuple, set, dict):\n",
    "        l1.append()\n",
    "    c+=1\n",
    "flat_list=m \n",
    "print(flat_list)"
   ]
  },
  {
   "cell_type": "code",
   "execution_count": 167,
   "id": "2064cb1a",
   "metadata": {},
   "outputs": [
    {
     "name": "stdout",
     "output_type": "stream",
     "text": [
      "156.0\n"
     ]
    }
   ],
   "source": [
    "#q7: try to give summation of all the numeric data\n",
    "sum_num=0.0\n",
    "for i in [x for x in flat_list if type(x) in (int, float, complex)]:\n",
    "    sum_num+=i\n",
    "print(sum_num)"
   ]
  },
  {
   "cell_type": "code",
   "execution_count": 179,
   "id": "9d1ba095",
   "metadata": {},
   "outputs": [
    {
     "data": {
      "text/plain": [
       "[2, 4, 2, 4, 6, 4, 6, 4, 6, 8]"
      ]
     },
     "execution_count": 179,
     "metadata": {},
     "output_type": "execute_result"
    }
   ],
   "source": [
    "#q8: try to filter out all the odd values out all numeric data which is part of a list\n",
    "[x for x in flat_list if type(x) in (int, float, complex) if x%2==0]"
   ]
  },
  {
   "cell_type": "code",
   "execution_count": 180,
   "id": "61f9e3f3",
   "metadata": {},
   "outputs": [
    {
     "data": {
      "text/plain": [
       "['ineuron', 'ineuron']"
      ]
     },
     "execution_count": 180,
     "metadata": {},
     "output_type": "execute_result"
    }
   ],
   "source": [
    "#q9: try to extract 'ineuron' out of this data\n",
    "[x for x in flat_list if x=='ineuron']"
   ]
  },
  {
   "cell_type": "code",
   "execution_count": 187,
   "id": "6264e56b",
   "metadata": {},
   "outputs": [
    {
     "name": "stdout",
     "output_type": "stream",
     "text": [
      "1               :   1\n",
      "2               :   2\n",
      "3               :   4\n",
      "4               :   4\n",
      "5               :   3\n",
      "6               :   3\n",
      "7               :   2\n",
      "k2              :   1\n",
      "kumar           :   1\n",
      "ineuron         :   2\n",
      "8               :   1\n",
      "data science    :   1\n",
      "45              :   1\n",
      "sudh            :   1\n",
      "23              :   1\n",
      "k3              :   1\n",
      "k1              :   1\n"
     ]
    }
   ],
   "source": [
    "#q10: try to find out a number of occurances of all the data\n",
    "set_flat = set(flat_list)\n",
    "for i in set_flat:\n",
    "    print(i, ' '*(14-len(str(i))), \":  \",  flat_list.count(i))"
   ]
  },
  {
   "cell_type": "code",
   "execution_count": 193,
   "id": "23faadf2",
   "metadata": {},
   "outputs": [
    {
     "name": "stdout",
     "output_type": "stream",
     "text": [
      "5\n"
     ]
    }
   ],
   "source": [
    "#q11: Try to find out number of keys in dict element\n",
    "for j in [i for i in l if type(i) is dict]:\n",
    "    print(len(j.keys()))"
   ]
  },
  {
   "cell_type": "code",
   "execution_count": 194,
   "id": "62337e38",
   "metadata": {},
   "outputs": [
    {
     "data": {
      "text/plain": [
       "['k1', 'sudh', 'k2', 'ineuron', 'k3', 'kumar', 'ineuron', 'data science ']"
      ]
     },
     "execution_count": 194,
     "metadata": {},
     "output_type": "execute_result"
    }
   ],
   "source": [
    "#q12: Try to filter out all the string data\n",
    "[i for i in flat_list if type(i) is str]"
   ]
  },
  {
   "cell_type": "code",
   "execution_count": 197,
   "id": "7e88122f",
   "metadata": {},
   "outputs": [
    {
     "data": {
      "text/plain": [
       "['k1', 'sudh', 'k2', 'ineuron', 'k3', 'kumar', 'ineuron']"
      ]
     },
     "execution_count": 197,
     "metadata": {},
     "output_type": "execute_result"
    }
   ],
   "source": [
    "#q13: Try to Find out alphanum in data\n",
    "[i for i in flat_list if type(i) is str if i.isalnum()]"
   ]
  },
  {
   "cell_type": "code",
   "execution_count": 201,
   "id": "9186d1c3",
   "metadata": {},
   "outputs": [
    {
     "name": "stdout",
     "output_type": "stream",
     "text": [
      "[24, 720, 2520, 20700, 1008, None]\n"
     ]
    }
   ],
   "source": [
    "#q14: Try to find out multiplication of all numeric value in the individual collection inside dataset\n",
    "m=[]\n",
    "for i in l:\n",
    "    if type(i) in (list, tuple, set, dict):\n",
    "        if type(i)==dict:\n",
    "            i=list(i.keys())+list(i.values())\n",
    "        a=None\n",
    "        for j in i:\n",
    "            if type(j) in (int, float, complex):\n",
    "                if a==None:\n",
    "                    a=1\n",
    "                a*=j\n",
    "        m.append(a)\n",
    "\n",
    "print(m)"
   ]
  },
  {
   "cell_type": "code",
   "execution_count": null,
   "id": "0a528110",
   "metadata": {},
   "outputs": [],
   "source": []
  }
 ],
 "metadata": {
  "kernelspec": {
   "display_name": "Python 3 (ipykernel)",
   "language": "python",
   "name": "python3"
  },
  "language_info": {
   "codemirror_mode": {
    "name": "ipython",
    "version": 3
   },
   "file_extension": ".py",
   "mimetype": "text/x-python",
   "name": "python",
   "nbconvert_exporter": "python",
   "pygments_lexer": "ipython3",
   "version": "3.9.7"
  }
 },
 "nbformat": 4,
 "nbformat_minor": 5
}
